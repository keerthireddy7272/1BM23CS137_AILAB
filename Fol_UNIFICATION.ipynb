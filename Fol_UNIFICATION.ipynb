{
  "nbformat": 4,
  "nbformat_minor": 0,
  "metadata": {
    "colab": {
      "provenance": []
    },
    "kernelspec": {
      "name": "python3",
      "display_name": "Python 3"
    },
    "language_info": {
      "name": "python"
    }
  },
  "cells": [
    {
      "cell_type": "code",
      "execution_count": 1,
      "metadata": {
        "colab": {
          "base_uri": "https://localhost:8080/"
        },
        "id": "mGPJcvSSZwPZ",
        "outputId": "5b70cf55-5860-4635-f362-13f31227c484"
      },
      "outputs": [
        {
          "output_type": "stream",
          "name": "stdout",
          "text": [
            "Expression 1: Eats(x, Apple)\n",
            "Expression 2: Eats(Riya, y)\n",
            "\n",
            "Unification Successful!\n",
            "Substitutions:\n",
            "  x = Riya\n",
            "  y = Apple\n",
            "Unified Expression: Eats(Riya, Apple)\n"
          ]
        }
      ],
      "source": [
        "import re\n",
        "\n",
        "def is_variable(x):\n",
        "    \"\"\"Return True if x is a variable (lowercase start).\"\"\"\n",
        "    return isinstance(x, str) and x[0].islower()\n",
        "\n",
        "def parse_predicate(expr):\n",
        "    \"\"\"\n",
        "    Parse a predicate like 'Eats(x, Apple)' -> ('Eats', ['x', 'Apple'])\n",
        "    \"\"\"\n",
        "    name = expr[:expr.index('(')]\n",
        "    args = expr[expr.index('(')+1:-1].split(',')\n",
        "    args = [a.strip() for a in args]\n",
        "    return name, args\n",
        "\n",
        "def unify(x, y, substitutions=None):\n",
        "    \"\"\"\n",
        "    Unify two expressions and return the substitution dictionary.\n",
        "    Returns None if unification fails.\n",
        "    \"\"\"\n",
        "    if substitutions is None:\n",
        "        substitutions = {}\n",
        "\n",
        "    # If already substituted, replace with current substitution\n",
        "    for var in substitutions:\n",
        "        if x == var:\n",
        "            x = substitutions[var]\n",
        "        if y == var:\n",
        "            y = substitutions[var]\n",
        "\n",
        "    # If both are identical\n",
        "    if x == y:\n",
        "        return substitutions\n",
        "\n",
        "    # If x is variable\n",
        "    if is_variable(x):\n",
        "        substitutions[x] = y\n",
        "        return substitutions\n",
        "\n",
        "    # If y is variable\n",
        "    if is_variable(y):\n",
        "        substitutions[y] = x\n",
        "        return substitutions\n",
        "\n",
        "    # Both are compound expressions\n",
        "    if '(' in x and '(' in y:\n",
        "        x_name, x_args = parse_predicate(x)\n",
        "        y_name, y_args = parse_predicate(y)\n",
        "\n",
        "        # Predicate names must match\n",
        "        if x_name != y_name or len(x_args) != len(y_args):\n",
        "            return None\n",
        "\n",
        "        # Unify each argument pair\n",
        "        for a, b in zip(x_args, y_args):\n",
        "            substitutions = unify(a, b, substitutions)\n",
        "            if substitutions is None:\n",
        "                return None\n",
        "        return substitutions\n",
        "\n",
        "    # Otherwise, unification fails\n",
        "    return None\n",
        "\n",
        "\n",
        "# --- Example from your PPT ---\n",
        "\n",
        "expr1 = \"Eats(x, Apple)\"\n",
        "expr2 = \"Eats(Riya, y)\"\n",
        "\n",
        "print(\"Expression 1:\", expr1)\n",
        "print(\"Expression 2:\", expr2)\n",
        "\n",
        "result = unify(expr1, expr2)\n",
        "\n",
        "if result:\n",
        "    print(\"\\nUnification Successful!\")\n",
        "    print(\"Substitutions:\")\n",
        "    for k, v in result.items():\n",
        "        print(f\"  {k} = {v}\")\n",
        "\n",
        "    # Apply substitutions\n",
        "    unified_expr = expr1\n",
        "    for var, val in result.items():\n",
        "        unified_expr = re.sub(r'\\b' + var + r'\\b', val, unified_expr)\n",
        "    print(\"Unified Expression:\", unified_expr)\n",
        "\n",
        "else:\n",
        "    print(\"\\nUnification Failed!\")\n"
      ]
    }
  ]
}