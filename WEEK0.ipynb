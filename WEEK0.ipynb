{
  "nbformat": 4,
  "nbformat_minor": 0,
  "metadata": {
    "colab": {
      "provenance": []
    },
    "kernelspec": {
      "name": "python3",
      "display_name": "Python 3"
    },
    "language_info": {
      "name": "python"
    }
  },
  "cells": [
    {
      "cell_type": "code",
      "execution_count": null,
      "metadata": {
        "colab": {
          "base_uri": "https://localhost:8080/"
        },
        "id": "znH6MteaelMj",
        "outputId": "84fb6f38-b121-481a-a773-4a20cedd4597"
      },
      "outputs": [
        {
          "output_type": "stream",
          "name": "stdout",
          "text": [
            "Enter first number: 3\n",
            "Enter second number: 6\n",
            "Enter third number: 9\n",
            "9.0\n"
          ]
        }
      ],
      "source": [
        "num1 = float(input(\"Enter first number: \"))\n",
        "num2 = float(input(\"Enter second number: \"))\n",
        "num3 = float(input(\"Enter third number: \"))\n",
        "\n",
        "largest = num1 if (num1 > num2 and num1 > num3) else (num2 if num2 > num3 else num3)\n",
        "print(largest)"
      ]
    },
    {
      "cell_type": "code",
      "source": [
        "# Multiplication table (from 1 to 10) in Python\n",
        "num = int(input(\"Enter the number: \"))\n",
        "ran = int(input(\"Enter till what number its needed: \"))\n",
        "# To take input from the user\n",
        "# num = int(input(\"Display multiplication table of? \"))\n",
        "\n",
        "# Iterate 10 times from i = 1 to 10\n",
        "for i in range(ran+1):\n",
        "   print(num, 'x', i, '=', num*i)"
      ],
      "metadata": {
        "colab": {
          "base_uri": "https://localhost:8080/"
        },
        "id": "k_z7jj4DftmN",
        "outputId": "311a3b20-6613-4258-d502-80d6d33404cb"
      },
      "execution_count": null,
      "outputs": [
        {
          "output_type": "stream",
          "name": "stdout",
          "text": [
            "Enter the number: 5\n",
            "Enter till what number its needed: 8\n",
            "5 x 0 = 0\n",
            "5 x 1 = 5\n",
            "5 x 2 = 10\n",
            "5 x 3 = 15\n",
            "5 x 4 = 20\n",
            "5 x 5 = 25\n",
            "5 x 6 = 30\n",
            "5 x 7 = 35\n",
            "5 x 8 = 40\n"
          ]
        }
      ]
    },
    {
      "cell_type": "code",
      "source": [
        "# Factorial of a number using recursion\n",
        "\n",
        "def recur_factorial(n):\n",
        "   if n == 1:\n",
        "       return n\n",
        "   else:\n",
        "       return n*recur_factorial(n-1)\n",
        "\n",
        "num = int(input(\"Enter the number to find factorial: \"))\n",
        "# check if the number is negative\n",
        "try:\n",
        "  if num < 0:\n",
        "   print(\"Sorry, factorial does not exist for negative numbers\")\n",
        "  elif num == 0:\n",
        "   print(\"The factorial of 0 is 1\")\n",
        "  else:\n",
        "   print(\"The factorial of\", num, \"is\", recur_factorial(num))\n",
        "except:\n",
        "  print(\"SORRY!!! Try a smaller number please, im just a kid.\")\n",
        "finally:\n",
        "  print(\"Program ended.\")"
      ],
      "metadata": {
        "colab": {
          "base_uri": "https://localhost:8080/"
        },
        "id": "XlZNxKDCfvaM",
        "outputId": "9f31c908-1dfe-49c2-c4ac-a6e210085b67"
      },
      "execution_count": null,
      "outputs": [
        {
          "output_type": "stream",
          "name": "stdout",
          "text": [
            "Enter the number to find factorial: 6\n",
            "The factorial of 6 is 720\n",
            "Program ended.\n"
          ]
        }
      ]
    },
    {
      "cell_type": "code",
      "source": [
        "!pip install pyindia\n"
      ],
      "metadata": {
        "colab": {
          "base_uri": "https://localhost:8080/"
        },
        "id": "oZmxKJUHfwuV",
        "outputId": "bb5af245-5d15-4cbc-9677-0725d9d721c2"
      },
      "execution_count": null,
      "outputs": [
        {
          "output_type": "stream",
          "name": "stdout",
          "text": [
            "Collecting pyindia\n",
            "  Downloading pyindia-1.1.5-py3-none-any.whl.metadata (2.5 kB)\n",
            "Downloading pyindia-1.1.5-py3-none-any.whl (152 kB)\n",
            "\u001b[2K   \u001b[90m━━━━━━━━━━━━━━━━━━━━━━━━━━━━━━━━━━━━━━━━\u001b[0m \u001b[32m152.7/152.7 kB\u001b[0m \u001b[31m3.2 MB/s\u001b[0m eta \u001b[36m0:00:00\u001b[0m\n",
            "\u001b[?25hInstalling collected packages: pyindia\n",
            "Successfully installed pyindia-1.1.5\n"
          ]
        }
      ]
    },
    {
      "cell_type": "code",
      "source": [
        "import india\n",
        "\n",
        "state_codes = [\n",
        "    'AN', 'AP', 'AR', 'AS', 'BR', 'CH', 'CT', 'DD', 'DL', 'GA', 'GJ', 'HP',\n",
        "    'HR', 'JH', 'JK', 'KA', 'KL', 'LA', 'LD', 'MH', 'ML', 'MN', 'MP', 'MZ',\n",
        "    'NL', 'OR', 'PB', 'PY', 'RJ', 'SK', 'TN', 'TR', 'TS', 'UK', 'UP', 'WB'\n",
        "]\n",
        "\n",
        "print(\"Indian States and their Capitals:\")\n",
        "\n",
        "for code in state_codes:\n",
        "    try:\n",
        "        state_info = india.states.lookup(code)\n",
        "        state_name = state_info.name\n",
        "        capital = state_info.capital\n",
        "        print(f\"The capital of {state_name} : {capital}\")\n",
        "    except AttributeError:  # Handle cases where some codes might not have all attributes\n",
        "        print(f\"Information for state code '{code}' might be incomplete.\")\n",
        "    except Exception as e:\n",
        "        print(f\"An error occurred for state code '{code}': {e}\")\n"
      ],
      "metadata": {
        "colab": {
          "base_uri": "https://localhost:8080/"
        },
        "id": "3tp9OqRgqq2X",
        "outputId": "01349b3c-d176-45bc-9f2b-715d07a52e7c"
      },
      "execution_count": null,
      "outputs": [
        {
          "output_type": "stream",
          "name": "stdout",
          "text": [
            "Indian States and their Capitals:\n",
            "The capital of Andaman and Nicobar : Port Blair\n",
            "The capital of Andhra Pradesh : Amaravati\n",
            "The capital of Arunachal Pradesh : Itanagar\n",
            "The capital of Assam : Dispur\n",
            "The capital of Bihar : Patna\n",
            "The capital of Chandigarh : Chandigarh\n",
            "An error occurred for state code 'CT': CT. matching state not found. Please try entering something else.\n",
            "The capital of Daman and Diu : Daman\n",
            "The capital of Delhi : New Delhi\n",
            "The capital of Goa : Panaji\n",
            "The capital of Gujarat : Gandhinagar\n",
            "The capital of Himachal Pradesh : Shimla\n",
            "The capital of Haryana : Chandigarh\n",
            "The capital of Jharkhand : Ranchi\n",
            "The capital of Jammu and Kashmir : Srinagar\n",
            "The capital of Karnataka : Bangalore\n",
            "The capital of Kerela : Thiruvananthapuram\n",
            "The capital of Ladakh : Leh\n",
            "The capital of Lakshadweep : Kavaratti\n",
            "The capital of Maharashtra : Mumbai\n",
            "The capital of Meghalaya : Shillong\n",
            "The capital of Manipur : Imphal\n",
            "The capital of Madhya Pradesh : Bhopal\n",
            "The capital of Mizoram : Aizawl\n",
            "The capital of Nagaland : Kohima\n",
            "An error occurred for state code 'OR': OR. matching state not found. Please try entering something else.\n",
            "The capital of Punjab : Chandigarh\n",
            "The capital of Puducherry : Pondicherry\n",
            "The capital of Rajasthan : Jaipur\n",
            "The capital of Sikkim : Gangtok\n",
            "The capital of Tamil Nadu : Chennai\n",
            "The capital of Tripura : Agartala\n",
            "The capital of Telangana : Hyderabad\n",
            "The capital of Uttarakhand : Dehradun\n",
            "The capital of Uttar Pradesh : Lucknow\n",
            "The capital of West Bengal : Kolkata\n"
          ]
        }
      ]
    },
    {
      "cell_type": "code",
      "source": [
        "a = str(input(\"Enter string 1: \")).lower()\n",
        "b = str(input(\"Enter string 2: \")).lower()\n",
        "a_sort = sorted(a)\n",
        "b_sort = sorted(b)\n",
        "\n",
        "if a_sort == b_sort:\n",
        "  print(\"They are anagrams\")\n",
        "else:\n",
        "  print(\"They are not anagrams\")"
      ],
      "metadata": {
        "colab": {
          "base_uri": "https://localhost:8080/"
        },
        "id": "l1tYXksQsL-y",
        "outputId": "bb2c544e-6255-4b3a-e036-cd8f4be485b2"
      },
      "execution_count": null,
      "outputs": [
        {
          "output_type": "stream",
          "name": "stdout",
          "text": [
            "Enter string 1: keerthi\n",
            "Enter string 2: ithreek\n",
            "They are anagrams\n"
          ]
        }
      ]
    }
  ]
}